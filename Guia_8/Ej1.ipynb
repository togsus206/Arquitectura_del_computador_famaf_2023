{
 "cells": [
  {
   "cell_type": "code",
   "execution_count": 1,
   "metadata": {
    "id": "UDexJl4FaSk2"
   },
   "outputs": [
    {
     "name": "stdout",
     "output_type": "stream",
     "text": [
      "Leyendo lista de paquetes... Hecho\n",
      "\u001b[1;31mE: \u001b[0mNo se pudo abrir el fichero de bloqueo «/var/lib/apt/lists/lock» - open (13: Permiso denegado)\u001b[0m\n",
      "\u001b[1;31mE: \u001b[0mNo se pudo bloquear el directorio /var/lib/apt/lists/\u001b[0m\n",
      "\u001b[1;33mW: \u001b[0mSe produjo un problema al desligar el fichero /var/cache/apt/pkgcache.bin - RemoveCaches (13: Permiso denegado)\u001b[0m\n",
      "\u001b[1;33mW: \u001b[0mSe produjo un problema al desligar el fichero /var/cache/apt/srcpkgcache.bin - RemoveCaches (13: Permiso denegado)\u001b[0m\n",
      "\u001b[1;31mE: \u001b[0mNo se pudo abrir el fichero de bloqueo «/var/lib/dpkg/lock-frontend» - open (13: Permiso denegado)\u001b[0m\n",
      "\u001b[1;31mE: \u001b[0mNo se pudo obtener el bloqueo de la interfaz dpkg (/var/lib/dpkg/lock-frontend). ¿Es usted superusuario?\u001b[0m\n",
      "\u001b[1;31mE: \u001b[0mNo se pudo abrir el fichero de bloqueo «/var/lib/dpkg/lock-frontend» - open (13: Permiso denegado)\u001b[0m\n",
      "\u001b[1;31mE: \u001b[0mNo se pudo obtener el bloqueo de la interfaz dpkg (/var/lib/dpkg/lock-frontend). ¿Es usted superusuario?\u001b[0m\n",
      "Defaulting to user installation because normal site-packages is not writeable\n",
      "Requirement already satisfied: pyopencl[pocl] in /home/matias/.local/lib/python3.10/site-packages (2023.1.4)\n",
      "Requirement already satisfied: platformdirs>=2.2.0 in /home/matias/.local/lib/python3.10/site-packages (from pyopencl[pocl]) (3.10.0)\n",
      "Requirement already satisfied: pytools>=2021.2.7 in /home/matias/.local/lib/python3.10/site-packages (from pyopencl[pocl]) (2023.1.1)\n",
      "Requirement already satisfied: numpy in /home/matias/.local/lib/python3.10/site-packages (from pyopencl[pocl]) (1.25.0)\n",
      "Requirement already satisfied: pocl-binary-distribution>=1.2 in /home/matias/.local/lib/python3.10/site-packages (from pyopencl[pocl]) (3.0)\n",
      "Requirement already satisfied: typing-extensions>=4.0 in /home/matias/.local/lib/python3.10/site-packages (from pytools>=2021.2.7->pyopencl[pocl]) (4.4.0)\n"
     ]
    }
   ],
   "source": [
    "!apt update\n",
    "!apt purge *nvidia* -y\n",
    "!apt install nvidia-driver-530 -y\n",
    "\n",
    "!pip install pyopencl[pocl]\n",
    "import sys\n",
    "sys.path.append('/usr/local/lib/python3.6/site-packages')\n",
    "import pyopencl as cl\n",
    "import pyopencl.array as cl_array\n",
    "import numpy as np"
   ]
  },
  {
   "cell_type": "code",
   "execution_count": 2,
   "metadata": {
    "colab": {
     "base_uri": "https://localhost:8080/"
    },
    "id": "UUFkmeSGaUbP",
    "outputId": "43b723cf-98b1-4855-e7ce-1e8f37b4e156",
    "scrolled": true
   },
   "outputs": [
    {
     "name": "stdout",
     "output_type": "stream",
     "text": [
      "Arquitectura:                            x86_64\n",
      "  modo(s) de operación de las CPUs:      32-bit, 64-bit\n",
      "  Address sizes:                         36 bits physical, 48 bits virtual\n",
      "  Orden de los bytes:                    Little Endian\n",
      "CPU(s):                                  2\n",
      "  Lista de la(s) CPU(s) en línea:        0,1\n",
      "ID de fabricante:                        GenuineIntel\n",
      "  Nombre del modelo:                     Intel(R) Core(TM)2 Duo CPU     P8700  @\n",
      "                                          2.53GHz\n",
      "    Familia de CPU:                      6\n",
      "    Modelo:                              23\n",
      "    Hilo(s) de procesamiento por núcleo: 1\n",
      "    Núcleo(s) por «socket»:              2\n",
      "    «Socket(s)»                          1\n",
      "    Revisión:                            10\n",
      "    CPU MHz máx.:                        2527,0000\n",
      "    CPU MHz mín.:                        798,0000\n",
      "    BogoMIPS:                            5041.87\n",
      "    Indicadores:                         fpu vme de pse tsc msr pae mce cx8 apic\n",
      "                                          sep mtrr pge mca cmov pat pse36 clflus\n",
      "                                         h dts acpi mmx fxsr sse sse2 ht tm pbe \n",
      "                                         syscall nx lm constant_tsc arch_perfmon\n",
      "                                          pebs bts rep_good nopl cpuid aperfmper\n",
      "                                         f pni dtes64 monitor ds_cpl vmx smx est\n",
      "                                          tm2 ssse3 cx16 xtpr pdcm sse4_1 xsave \n",
      "                                         lahf_lm pti tpr_shadow vnmi flexpriorit\n",
      "                                         y vpid dtherm\n",
      "Virtualization features:                 \n",
      "  Virtualización:                        VT-x\n",
      "Caches (sum of all):                     \n",
      "  L1d:                                   64 KiB (2 instances)\n",
      "  L1i:                                   64 KiB (2 instances)\n",
      "  L2:                                    3 MiB (1 instance)\n",
      "NUMA:                                    \n",
      "  Modo(s) NUMA:                          1\n",
      "  CPU(s) del nodo NUMA 0:                0,1\n",
      "Vulnerabilities:                         \n",
      "  Gather data sampling:                  Not affected\n",
      "  Itlb multihit:                         KVM: Mitigation: VMX disabled\n",
      "  L1tf:                                  Mitigation; PTE Inversion; VMX conditio\n",
      "                                         nal cache flushes, SMT disabled\n",
      "  Mds:                                   Vulnerable: Clear CPU buffers attempted\n",
      "                                         , no microcode; SMT disabled\n",
      "  Meltdown:                              Mitigation; PTI\n",
      "  Mmio stale data:                       Unknown: No mitigations\n",
      "  Retbleed:                              Not affected\n",
      "  Spec rstack overflow:                  Not affected\n",
      "  Spec store bypass:                     Vulnerable\n",
      "  Spectre v1:                            Mitigation; usercopy/swapgs barriers an\n",
      "                                         d __user pointer sanitization\n",
      "  Spectre v2:                            Mitigation; Retpolines, STIBP disabled,\n",
      "                                          RSB filling, PBRSB-eIBRS Not affected\n",
      "  Srbds:                                 Not affected\n",
      "  Tsx async abort:                       Not affected\n",
      "/bin/bash: línea 1: nvidia-smi: orden no encontrada\n"
     ]
    }
   ],
   "source": [
    "!lscpu\n",
    "!nvidia-smi"
   ]
  },
  {
   "cell_type": "markdown",
   "metadata": {
    "id": "C4LDO4ty4rnH"
   },
   "source": [
    "## Kernel"
   ]
  },
  {
   "cell_type": "code",
   "execution_count": 3,
   "metadata": {
    "id": "k6BL8qtCab4q"
   },
   "outputs": [],
   "source": [
    "# Write Kernel Code\n",
    "C_elem_KernelSource = \"\"\"\n",
    "__kernel void parallelSum(\n",
    "    __global const float *a_g,\n",
    "    __global const float *b_g,\n",
    "    __global float *res_g)\n",
    "{\n",
    "  int gid = get_global_id(0);\n",
    "  res_g[gid] = a_g[gid] + b_g[gid];\n",
    "}\n",
    "\"\"\""
   ]
  },
  {
   "cell_type": "code",
   "execution_count": 4,
   "metadata": {
    "id": "TO86Wfy3aWbv"
   },
   "outputs": [
    {
     "ename": "LogicError",
     "evalue": "Context failed: INVALID_VALUE",
     "output_type": "error",
     "traceback": [
      "\u001b[0;31m---------------------------------------------------------------------------\u001b[0m",
      "\u001b[0;31mLogicError\u001b[0m                                Traceback (most recent call last)",
      "\u001b[0;32m/tmp/ipykernel_4516/1150803381.py\u001b[0m in \u001b[0;36m<module>\u001b[0;34m\u001b[0m\n\u001b[1;32m      9\u001b[0m \u001b[0;34m\u001b[0m\u001b[0m\n\u001b[1;32m     10\u001b[0m \u001b[0;31m# Create Context\u001b[0m\u001b[0;34m\u001b[0m\u001b[0;34m\u001b[0m\u001b[0m\n\u001b[0;32m---> 11\u001b[0;31m \u001b[0mcontext\u001b[0m \u001b[0;34m=\u001b[0m \u001b[0mcl\u001b[0m\u001b[0;34m.\u001b[0m\u001b[0mContext\u001b[0m\u001b[0;34m(\u001b[0m\u001b[0mdevices\u001b[0m\u001b[0;34m=\u001b[0m\u001b[0mdevices\u001b[0m\u001b[0;34m)\u001b[0m\u001b[0;34m\u001b[0m\u001b[0;34m\u001b[0m\u001b[0m\n\u001b[0m\u001b[1;32m     12\u001b[0m \u001b[0;34m\u001b[0m\u001b[0m\n\u001b[1;32m     13\u001b[0m \u001b[0;31m# Create command Queue\u001b[0m\u001b[0;34m\u001b[0m\u001b[0;34m\u001b[0m\u001b[0m\n",
      "\u001b[0;31mLogicError\u001b[0m: Context failed: INVALID_VALUE"
     ]
    }
   ],
   "source": [
    "# Vector lenght\n",
    "N = 2048\n",
    "\n",
    "# Discover and Select Platform\n",
    "platform_list = cl.get_platforms()\n",
    "\n",
    "# Discover and Select Device\n",
    "devices = platform_list[0].get_devices(device_type=cl.device_type.GPU)\n",
    "\n",
    "# Create Context\n",
    "context = cl.Context(devices=devices)\n",
    "\n",
    "# Create command Queue\n",
    "queue = cl.CommandQueue(context)\n",
    "\n",
    "# Create and initialize input vector (Numpy)\n",
    "mf = cl.mem_flags\n",
    "a_np = np.arange(N).astype(np.float32)\n",
    "b_np = np.arange(N).astype(np.float32)\n",
    "\n",
    "# Create output vector with the same size as the input one (Numpy)\n",
    "res_np = np.empty_like(a_np)\n",
    "\n",
    "# Create and initialize input buffers (OpenCL)\n",
    "a_g = cl.Buffer(context, mf.READ_ONLY | mf.COPY_HOST_PTR, hostbuf=a_np)\n",
    "b_g = cl.Buffer(context, mf.READ_ONLY | mf.COPY_HOST_PTR, hostbuf=b_np)\n",
    "\n",
    "# Create output buffer with the same size as the input one (OpenCL)\n",
    "res_g = cl.Buffer(context, mf.WRITE_ONLY, a_np.nbytes)\n",
    "\n",
    "# Create Program\n",
    "program = cl.Program(context, C_elem_KernelSource).build()\n",
    "\n",
    "# Create Kernel\n",
    "kernel = program.parallelSum\n",
    "\n",
    "# Set Kernel Arguments\n",
    "kernel.set_scalar_arg_dtypes([np.int32, None, None, None])\n",
    "kernel.set_args(N, a_g, b_g, res_g)\n",
    "\n",
    "\n",
    "\n",
    "\n",
    "# Define Global and Local Range Dimension and size\n",
    "globalrange = res_np.shape\n",
    "localrange = None\n",
    "\n",
    "# Excecute Kernel\n",
    "ev = cl.enqueue_nd_range_kernel(queue, kernel, globalrange, localrange)\n",
    "\n",
    "# Copy Result from Device to Host\n",
    "cl.enqueue_copy(queue, res_np, res_g)\n",
    "\n",
    "# Check on CPU with Numpy:\n",
    "assert np.allclose(res_np, a_np + b_np)"
   ]
  },
  {
   "cell_type": "code",
   "execution_count": 6,
   "metadata": {
    "colab": {
     "base_uri": "https://localhost:8080/"
    },
    "id": "TqwWJJQy_LCM",
    "outputId": "6f79f2b8-4301-470f-ccbc-bb960ba05f65"
   },
   "outputs": [
    {
     "name": "stdout",
     "output_type": "stream",
     "text": [
      "[0.000e+00 2.000e+00 4.000e+00 ... 4.090e+03 4.092e+03 4.094e+03]\n"
     ]
    }
   ],
   "source": [
    "print(res_np)"
   ]
  },
  {
   "cell_type": "code",
   "execution_count": null,
   "metadata": {
    "id": "QTEH5JgGEuz8"
   },
   "outputs": [],
   "source": []
  }
 ],
 "metadata": {
  "accelerator": "GPU",
  "colab": {
   "gpuType": "T4",
   "provenance": []
  },
  "kernelspec": {
   "display_name": "Python 3 (ipykernel)",
   "language": "python",
   "name": "python3"
  },
  "language_info": {
   "codemirror_mode": {
    "name": "ipython",
    "version": 3
   },
   "file_extension": ".py",
   "mimetype": "text/x-python",
   "name": "python",
   "nbconvert_exporter": "python",
   "pygments_lexer": "ipython3",
   "version": "3.10.12"
  }
 },
 "nbformat": 4,
 "nbformat_minor": 4
}
