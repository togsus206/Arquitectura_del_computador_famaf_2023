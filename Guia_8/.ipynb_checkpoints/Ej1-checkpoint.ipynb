{
  "nbformat": 4,
  "nbformat_minor": 0,
  "metadata": {
    "colab": {
      "provenance": [],
      "gpuType": "T4"
    },
    "kernelspec": {
      "name": "python3",
      "display_name": "Python 3"
    },
    "language_info": {
      "name": "python"
    },
    "accelerator": "GPU"
  },
  "cells": [
    {
      "cell_type": "code",
      "execution_count": null,
      "metadata": {
        "id": "UDexJl4FaSk2"
      },
      "outputs": [],
      "source": [
        "!apt update\n",
        "!apt purge *nvidia* -y\n",
        "!apt install nvidia-driver-530 -y\n",
        "\n",
        "!pip install pyopencl[pocl]\n",
        "import sys\n",
        "sys.path.append('/usr/local/lib/python3.6/site-packages')\n",
        "import pyopencl as cl\n",
        "import pyopencl.array as cl_array\n",
        "import numpy as np"
      ]
    },
    {
      "cell_type": "code",
      "source": [
        "!lscpu\n",
        "!nvidia-smi"
      ],
      "metadata": {
        "id": "UUFkmeSGaUbP",
        "colab": {
          "base_uri": "https://localhost:8080/"
        },
        "outputId": "43b723cf-98b1-4855-e7ce-1e8f37b4e156"
      },
      "execution_count": 2,
      "outputs": [
        {
          "output_type": "stream",
          "name": "stdout",
          "text": [
            "Architecture:            x86_64\n",
            "  CPU op-mode(s):        32-bit, 64-bit\n",
            "  Address sizes:         46 bits physical, 48 bits virtual\n",
            "  Byte Order:            Little Endian\n",
            "CPU(s):                  2\n",
            "  On-line CPU(s) list:   0,1\n",
            "Vendor ID:               GenuineIntel\n",
            "  Model name:            Intel(R) Xeon(R) CPU @ 2.00GHz\n",
            "    CPU family:          6\n",
            "    Model:               85\n",
            "    Thread(s) per core:  2\n",
            "    Core(s) per socket:  1\n",
            "    Socket(s):           1\n",
            "    Stepping:            3\n",
            "    BogoMIPS:            4000.34\n",
            "    Flags:               fpu vme de pse tsc msr pae mce cx8 apic sep mtrr pge mca cmov pat pse36 clf\n",
            "                         lush mmx fxsr sse sse2 ss ht syscall nx pdpe1gb rdtscp lm constant_tsc rep_\n",
            "                         good nopl xtopology nonstop_tsc cpuid tsc_known_freq pni pclmulqdq ssse3 fm\n",
            "                         a cx16 pcid sse4_1 sse4_2 x2apic movbe popcnt aes xsave avx f16c rdrand hyp\n",
            "                         ervisor lahf_lm abm 3dnowprefetch invpcid_single ssbd ibrs ibpb stibp fsgsb\n",
            "                         ase tsc_adjust bmi1 hle avx2 smep bmi2 erms invpcid rtm mpx avx512f avx512d\n",
            "                         q rdseed adx smap clflushopt clwb avx512cd avx512bw avx512vl xsaveopt xsave\n",
            "                         c xgetbv1 xsaves arat md_clear arch_capabilities\n",
            "Virtualization features: \n",
            "  Hypervisor vendor:     KVM\n",
            "  Virtualization type:   full\n",
            "Caches (sum of all):     \n",
            "  L1d:                   32 KiB (1 instance)\n",
            "  L1i:                   32 KiB (1 instance)\n",
            "  L2:                    1 MiB (1 instance)\n",
            "  L3:                    38.5 MiB (1 instance)\n",
            "NUMA:                    \n",
            "  NUMA node(s):          1\n",
            "  NUMA node0 CPU(s):     0,1\n",
            "Vulnerabilities:         \n",
            "  Itlb multihit:         Not affected\n",
            "  L1tf:                  Mitigation; PTE Inversion\n",
            "  Mds:                   Vulnerable; SMT Host state unknown\n",
            "  Meltdown:              Vulnerable\n",
            "  Mmio stale data:       Vulnerable\n",
            "  Retbleed:              Vulnerable\n",
            "  Spec store bypass:     Vulnerable\n",
            "  Spectre v1:            Vulnerable: __user pointer sanitization and usercopy barriers only; no swap\n",
            "                         gs barriers\n",
            "  Spectre v2:            Vulnerable, IBPB: disabled, STIBP: disabled, PBRSB-eIBRS: Not affected\n",
            "  Srbds:                 Not affected\n",
            "  Tsx async abort:       Vulnerable\n",
            "Wed Oct 25 13:49:55 2023       \n",
            "+-----------------------------------------------------------------------------+\n",
            "| NVIDIA-SMI 525.105.17   Driver Version: 525.105.17   CUDA Version: 12.0     |\n",
            "|-------------------------------+----------------------+----------------------+\n",
            "| GPU  Name        Persistence-M| Bus-Id        Disp.A | Volatile Uncorr. ECC |\n",
            "| Fan  Temp  Perf  Pwr:Usage/Cap|         Memory-Usage | GPU-Util  Compute M. |\n",
            "|                               |                      |               MIG M. |\n",
            "|===============================+======================+======================|\n",
            "|   0  Tesla T4            Off  | 00000000:00:04.0 Off |                    0 |\n",
            "| N/A   42C    P8    10W /  70W |      0MiB / 15360MiB |      0%      Default |\n",
            "|                               |                      |                  N/A |\n",
            "+-------------------------------+----------------------+----------------------+\n",
            "                                                                               \n",
            "+-----------------------------------------------------------------------------+\n",
            "| Processes:                                                                  |\n",
            "|  GPU   GI   CI        PID   Type   Process name                  GPU Memory |\n",
            "|        ID   ID                                                   Usage      |\n",
            "|=============================================================================|\n",
            "|  No running processes found                                                 |\n",
            "+-----------------------------------------------------------------------------+\n"
          ]
        }
      ]
    },
    {
      "cell_type": "markdown",
      "source": [
        "## Kernel"
      ],
      "metadata": {
        "id": "C4LDO4ty4rnH"
      }
    },
    {
      "cell_type": "code",
      "source": [
        "# Write Kernel Code\n",
        "C_elem_KernelSource = \"\"\"\n",
        "__kernel void parallelSum(\n",
        "    __global const float *a_g,\n",
        "    __global const float *b_g,\n",
        "    __global float *res_g)\n",
        "{\n",
        "  int gid = get_global_id(0);\n",
        "  res_g[gid] = a_g[gid] + b_g[gid];\n",
        "}\n",
        "\"\"\""
      ],
      "metadata": {
        "id": "k6BL8qtCab4q"
      },
      "execution_count": 3,
      "outputs": []
    },
    {
      "cell_type": "code",
      "source": [
        "# Vector lenght\n",
        "N = 2048\n",
        "\n",
        "# Discover and Select Platform\n",
        "platform_list = cl.get_platforms()\n",
        "\n",
        "# Discover and Select Device\n",
        "devices = platform_list[0].get_devices(device_type=cl.device_type.GPU)\n",
        "\n",
        "# Create Context\n",
        "context = cl.Context(devices=devices)\n",
        "\n",
        "# Create command Queue\n",
        "queue = cl.CommandQueue(context)\n",
        "\n",
        "# Create and initialize input vector (Numpy)\n",
        "mf = cl.mem_flags\n",
        "a_np = np.arange(N).astype(np.float32)\n",
        "b_np = np.arange(N).astype(np.float32)\n",
        "\n",
        "# Create output vector with the same size as the input one (Numpy)\n",
        "res_np = np.empty_like(a_np)\n",
        "\n",
        "# Create and initialize input buffers (OpenCL)\n",
        "a_g = cl.Buffer(context, mf.READ_ONLY | mf.COPY_HOST_PTR, hostbuf=a_np)\n",
        "b_g = cl.Buffer(context, mf.READ_ONLY | mf.COPY_HOST_PTR, hostbuf=b_np)\n",
        "\n",
        "# Create output buffer with the same size as the input one (OpenCL)\n",
        "res_g = cl.Buffer(context, mf.WRITE_ONLY, a_np.nbytes)\n",
        "\n",
        "# Create Program\n",
        "program = cl.Program(context, C_elem_KernelSource).build()\n",
        "\n",
        "# Create Kernel\n",
        "kernel = program.parallelSum\n",
        "\n",
        "# Set Kernel Arguments\n",
        "kernel.set_scalar_arg_dtypes([np.int32, None, None, None])\n",
        "kernel.set_args(N, a_g, b_g, res_g)\n",
        "\n",
        "\n",
        "\n",
        "\n",
        "\n",
        "\n",
        "\n",
        "\n",
        "\n",
        "\n",
        "\n",
        "\n",
        "\n",
        "\n",
        "\n",
        "\n",
        "\n",
        "\n",
        "\n",
        "\n",
        "\n",
        "\n",
        "\n",
        "# Define Global and Local Range Dimension and size\n",
        "globalrange = res_np.shape\n",
        "localrange = None\n",
        "\n",
        "# Excecute Kernel\n",
        "ev = cl.enqueue_nd_range_kernel(queue, kernel, globalrange, localrange)\n",
        "\n",
        "# Copy Result from Device to Host\n",
        "cl.enqueue_copy(queue, res_np, res_g)\n",
        "\n",
        "# Check on CPU with Numpy:\n",
        "assert np.allclose(res_np, a_np + b_np)"
      ],
      "metadata": {
        "id": "TO86Wfy3aWbv"
      },
      "execution_count": 5,
      "outputs": []
    },
    {
      "cell_type": "code",
      "source": [
        "print(res_np)"
      ],
      "metadata": {
        "colab": {
          "base_uri": "https://localhost:8080/"
        },
        "id": "TqwWJJQy_LCM",
        "outputId": "6f79f2b8-4301-470f-ccbc-bb960ba05f65"
      },
      "execution_count": 6,
      "outputs": [
        {
          "output_type": "stream",
          "name": "stdout",
          "text": [
            "[0.000e+00 2.000e+00 4.000e+00 ... 4.090e+03 4.092e+03 4.094e+03]\n"
          ]
        }
      ]
    },
    {
      "cell_type": "code",
      "source": [],
      "metadata": {
        "id": "QTEH5JgGEuz8"
      },
      "execution_count": null,
      "outputs": []
    }
  ]
}