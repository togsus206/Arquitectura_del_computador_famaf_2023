{
 "cells": [
  {
   "cell_type": "code",
   "execution_count": 3,
   "id": "602290c7-0423-4fca-9788-145d7af316b9",
   "metadata": {},
   "outputs": [],
   "source": [
    "import numpy as np\n",
    "import pyopencl as cl\n",
    "\n",
    "# Constants\n",
    "WIDTH = 10\n",
    "LOCAL_SIZE = 2"
   ]
  },
  {
   "cell_type": "code",
   "execution_count": 4,
   "id": "8cb402d2-2a76-496d-b175-9b2d86f9c149",
   "metadata": {},
   "outputs": [],
   "source": [
    "# Kernels\n",
    "def sum_kernel(A, B):\n",
    "    \"\"\"\n",
    "    Sums the neighbors of each element in A.\n",
    "\n",
    "    Args:\n",
    "        A: The input array.\n",
    "        B: The output array.\n",
    "    \"\"\"\n",
    "\n",
    "    # Get the global and local IDs.\n",
    "    i = get_global_id(0)\n",
    "    j = get_local_id(0)\n",
    "\n",
    "    # Read the element from the global array.\n",
    "    a = A[i]\n",
    "\n",
    "    # Write the element to the local array.\n",
    "    B[j] = a\n",
    "\n",
    "    # Synchronize the local work-group.\n",
    "    barrier(CLK_LOCAL_MEM_FENCE)\n",
    "\n",
    "    # Sum the neighbors.\n",
    "    if j == 0:\n",
    "        B[0] += A[i - 1]\n",
    "    if j == 1:\n",
    "        B[1] += A[i]\n",
    "    if j == 2:\n",
    "        B[2] += A[i + 1]\n",
    "\n",
    "def sum_kernel_2(A, B):\n",
    "    \"\"\"\n",
    "    Sums the neighbors of each element in B.\n",
    "\n",
    "    Args:\n",
    "        A: The input array.\n",
    "        B: The output array.\n",
    "    \"\"\"\n",
    "\n",
    "    # Get the global and local IDs.\n",
    "    i = get_global_id(0)\n",
    "    j = get_local_id(0)\n",
    "\n",
    "    # Read the element from the global array.\n",
    "    a = B[i]\n",
    "\n",
    "    # Write the element to the local array.\n",
    "    B[j] = a\n",
    "\n",
    "    # Synchronize the local work-group.\n",
    "    barrier(CLK_LOCAL_MEM_FENCE)\n",
    "\n",
    "    # Sum the neighbors.\n",
    "    if j == 0:\n",
    "        B[0] += A[i - 1]\n",
    "    if j == 1:\n",
    "        B[1] += A[i]\n",
    "    if j == 2:\n",
    "        B[2] += A[i + 1]\n"
   ]
  },
  {
   "cell_type": "code",
   "execution_count": 6,
   "id": "9b277692-1e96-4e70-a6f3-80ba1fe06ff1",
   "metadata": {},
   "outputs": [],
   "source": [
    "# Main function\n",
    "def main():\n",
    "\n",
    "    # Create the OpenCL context and device.\n",
    "    platforms = cl.get_platforms()\n",
    "    device = platforms[0].get_devices(device_type=cl.device_type.GPU)[0]\n",
    "    context = cl.Context(devices=[device])\n",
    "    queue = cl.CommandQueue(context)\n",
    "\n",
    "    # Create the OpenCL buffers.\n",
    "    A = np.arange(WIDTH).astype(np.int32)\n",
    "    B = np.zeros(LOCAL_SIZE).astype(np.int32)\n",
    "    A_buffer = cl.Buffer(context, cl.mem_flags.READ_ONLY, A.size)\n",
    "    B_buffer = cl.Buffer(context, cl.mem_flags.WRITE_ONLY, B.size)\n",
    "\n",
    "    # Compile the kernels.\n",
    "    program = cl.Program(context, [sum_kernel, sum_kernel_2]).build()\n",
    "\n",
    "    # Execute the first kernel.\n",
    "    kernel = program.get_kernel(\"sum_kernel\")\n",
    "    kernel.set_arg(0, A_buffer)\n",
    "    kernel.set_arg(1, B_buffer)\n",
    "    cl.enqueue_nd_range_kernel(queue, kernel, (WIDTH,), None)\n",
    "\n",
    "    # Execute the second kernel.\n",
    "    kernel = program.get_kernel(\"sum_kernel_2\")\n",
    "    kernel.set_arg(0, B_buffer)\n",
    "    kernel.set_arg(1, B_buffer)\n",
    "    cl.enqueue_nd_range_kernel(queue, kernel, (LOCAL_SIZE,), None)\n",
    "\n",
    "    # Copy the results from the OpenCL device to the host.\n",
    "    B_out = np.empty_like(B)\n",
    "    cl.enqueue_copy(queue, B_buffer, B_out)\n",
    "\n",
    "    # Print the results.\n",
    "    print(B_out)\n"
   ]
  },
  {
   "cell_type": "code",
   "execution_count": 7,
   "id": "cf4ec3d5-3a78-42cb-b60c-56973fa338ea",
   "metadata": {},
   "outputs": [
    {
     "ename": "IndexError",
     "evalue": "list index out of range",
     "output_type": "error",
     "traceback": [
      "\u001b[0;31m---------------------------------------------------------------------------\u001b[0m",
      "\u001b[0;31mIndexError\u001b[0m                                Traceback (most recent call last)",
      "\u001b[0;32m/tmp/ipykernel_10847/2065232370.py\u001b[0m in \u001b[0;36m<module>\u001b[0;34m\u001b[0m\n\u001b[1;32m      1\u001b[0m \u001b[0;31m# Call the main function.\u001b[0m\u001b[0;34m\u001b[0m\u001b[0;34m\u001b[0m\u001b[0m\n\u001b[1;32m      2\u001b[0m \u001b[0;32mif\u001b[0m \u001b[0m__name__\u001b[0m \u001b[0;34m==\u001b[0m \u001b[0;34m\"__main__\"\u001b[0m\u001b[0;34m:\u001b[0m\u001b[0;34m\u001b[0m\u001b[0;34m\u001b[0m\u001b[0m\n\u001b[0;32m----> 3\u001b[0;31m     \u001b[0mmain\u001b[0m\u001b[0;34m(\u001b[0m\u001b[0;34m)\u001b[0m\u001b[0;34m\u001b[0m\u001b[0;34m\u001b[0m\u001b[0m\n\u001b[0m",
      "\u001b[0;32m/tmp/ipykernel_10847/2374127520.py\u001b[0m in \u001b[0;36mmain\u001b[0;34m()\u001b[0m\n\u001b[1;32m      4\u001b[0m     \u001b[0;31m# Create the OpenCL context and device.\u001b[0m\u001b[0;34m\u001b[0m\u001b[0;34m\u001b[0m\u001b[0m\n\u001b[1;32m      5\u001b[0m     \u001b[0mplatforms\u001b[0m \u001b[0;34m=\u001b[0m \u001b[0mcl\u001b[0m\u001b[0;34m.\u001b[0m\u001b[0mget_platforms\u001b[0m\u001b[0;34m(\u001b[0m\u001b[0;34m)\u001b[0m\u001b[0;34m\u001b[0m\u001b[0;34m\u001b[0m\u001b[0m\n\u001b[0;32m----> 6\u001b[0;31m     \u001b[0mdevice\u001b[0m \u001b[0;34m=\u001b[0m \u001b[0mplatforms\u001b[0m\u001b[0;34m[\u001b[0m\u001b[0;36m0\u001b[0m\u001b[0;34m]\u001b[0m\u001b[0;34m.\u001b[0m\u001b[0mget_devices\u001b[0m\u001b[0;34m(\u001b[0m\u001b[0mdevice_type\u001b[0m\u001b[0;34m=\u001b[0m\u001b[0mcl\u001b[0m\u001b[0;34m.\u001b[0m\u001b[0mdevice_type\u001b[0m\u001b[0;34m.\u001b[0m\u001b[0mGPU\u001b[0m\u001b[0;34m)\u001b[0m\u001b[0;34m[\u001b[0m\u001b[0;36m0\u001b[0m\u001b[0;34m]\u001b[0m\u001b[0;34m\u001b[0m\u001b[0;34m\u001b[0m\u001b[0m\n\u001b[0m\u001b[1;32m      7\u001b[0m     \u001b[0mcontext\u001b[0m \u001b[0;34m=\u001b[0m \u001b[0mcl\u001b[0m\u001b[0;34m.\u001b[0m\u001b[0mContext\u001b[0m\u001b[0;34m(\u001b[0m\u001b[0mdevices\u001b[0m\u001b[0;34m=\u001b[0m\u001b[0;34m[\u001b[0m\u001b[0mdevice\u001b[0m\u001b[0;34m]\u001b[0m\u001b[0;34m)\u001b[0m\u001b[0;34m\u001b[0m\u001b[0;34m\u001b[0m\u001b[0m\n\u001b[1;32m      8\u001b[0m     \u001b[0mqueue\u001b[0m \u001b[0;34m=\u001b[0m \u001b[0mcl\u001b[0m\u001b[0;34m.\u001b[0m\u001b[0mCommandQueue\u001b[0m\u001b[0;34m(\u001b[0m\u001b[0mcontext\u001b[0m\u001b[0;34m)\u001b[0m\u001b[0;34m\u001b[0m\u001b[0;34m\u001b[0m\u001b[0m\n",
      "\u001b[0;31mIndexError\u001b[0m: list index out of range"
     ]
    }
   ],
   "source": [
    "# Call the main function.\n",
    "if __name__ == \"__main__\":\n",
    "    main()"
   ]
  },
  {
   "cell_type": "code",
   "execution_count": null,
   "id": "8b5293ca-e9a2-4b34-8b1f-1e7fc4ae4a42",
   "metadata": {},
   "outputs": [],
   "source": []
  }
 ],
 "metadata": {
  "kernelspec": {
   "display_name": "Python 3 (ipykernel)",
   "language": "python",
   "name": "python3"
  },
  "language_info": {
   "codemirror_mode": {
    "name": "ipython",
    "version": 3
   },
   "file_extension": ".py",
   "mimetype": "text/x-python",
   "name": "python",
   "nbconvert_exporter": "python",
   "pygments_lexer": "ipython3",
   "version": "3.10.12"
  }
 },
 "nbformat": 4,
 "nbformat_minor": 5
}
