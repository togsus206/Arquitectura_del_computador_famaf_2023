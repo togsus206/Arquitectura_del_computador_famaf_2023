{
 "cells": [
  {
   "cell_type": "markdown",
   "metadata": {
    "id": "x7Nb37sCEKIG"
   },
   "source": [
    "# Código Ejercicio 2"
   ]
  },
  {
   "cell_type": "code",
   "execution_count": 1,
   "metadata": {
    "colab": {
     "base_uri": "https://localhost:8080/"
    },
    "id": "rNjRTw0LhRWD",
    "outputId": "83fbed2a-819e-4aaa-d6f2-31a934e36b8d"
   },
   "outputs": [
    {
     "name": "stdout",
     "output_type": "stream",
     "text": [
      "Defaulting to user installation because normal site-packages is not writeable\n",
      "Requirement already satisfied: pyopencl in /home/matias/.local/lib/python3.10/site-packages (2023.1.4)\n",
      "Requirement already satisfied: numpy in /home/matias/.local/lib/python3.10/site-packages (from pyopencl) (1.25.0)\n",
      "Requirement already satisfied: pytools>=2021.2.7 in /home/matias/.local/lib/python3.10/site-packages (from pyopencl) (2023.1.1)\n",
      "Requirement already satisfied: platformdirs>=2.2.0 in /home/matias/.local/lib/python3.10/site-packages (from pyopencl) (3.10.0)\n",
      "Requirement already satisfied: typing-extensions>=4.0 in /home/matias/.local/lib/python3.10/site-packages (from pytools>=2021.2.7->pyopencl) (4.4.0)\n"
     ]
    }
   ],
   "source": [
    "!pip install pyopencl\n",
    "import sys\n",
    "sys.path.append('/usr/local/lib/python3.6/site-packages')\n",
    "import pyopencl as cl\n",
    "import pyopencl.array as cl_array\n",
    "import numpy as np"
   ]
  },
  {
   "cell_type": "code",
   "execution_count": 2,
   "metadata": {
    "colab": {
     "base_uri": "https://localhost:8080/"
    },
    "id": "TUmn4ggbFyFv",
    "outputId": "0cc6af25-87d2-4808-8a65-dd169885b9db"
   },
   "outputs": [
    {
     "name": "stdout",
     "output_type": "stream",
     "text": [
      "Arquitectura:                            x86_64\n",
      "  modo(s) de operación de las CPUs:      32-bit, 64-bit\n",
      "  Address sizes:                         36 bits physical, 48 bits virtual\n",
      "  Orden de los bytes:                    Little Endian\n",
      "CPU(s):                                  2\n",
      "  Lista de la(s) CPU(s) en línea:        0,1\n",
      "ID de fabricante:                        GenuineIntel\n",
      "  Nombre del modelo:                     Intel(R) Core(TM)2 Duo CPU     P8700  @\n",
      "                                          2.53GHz\n",
      "    Familia de CPU:                      6\n",
      "    Modelo:                              23\n",
      "    Hilo(s) de procesamiento por núcleo: 1\n",
      "    Núcleo(s) por «socket»:              2\n",
      "    «Socket(s)»                          1\n",
      "    Revisión:                            10\n",
      "    CPU MHz máx.:                        2527,0000\n",
      "    CPU MHz mín.:                        798,0000\n",
      "    BogoMIPS:                            5041.87\n",
      "    Indicadores:                         fpu vme de pse tsc msr pae mce cx8 apic\n",
      "                                          sep mtrr pge mca cmov pat pse36 clflus\n",
      "                                         h dts acpi mmx fxsr sse sse2 ht tm pbe \n",
      "                                         syscall nx lm constant_tsc arch_perfmon\n",
      "                                          pebs bts rep_good nopl cpuid aperfmper\n",
      "                                         f pni dtes64 monitor ds_cpl vmx smx est\n",
      "                                          tm2 ssse3 cx16 xtpr pdcm sse4_1 xsave \n",
      "                                         lahf_lm pti tpr_shadow vnmi flexpriorit\n",
      "                                         y vpid dtherm\n",
      "Virtualization features:                 \n",
      "  Virtualización:                        VT-x\n",
      "Caches (sum of all):                     \n",
      "  L1d:                                   64 KiB (2 instances)\n",
      "  L1i:                                   64 KiB (2 instances)\n",
      "  L2:                                    3 MiB (1 instance)\n",
      "NUMA:                                    \n",
      "  Modo(s) NUMA:                          1\n",
      "  CPU(s) del nodo NUMA 0:                0,1\n",
      "Vulnerabilities:                         \n",
      "  Gather data sampling:                  Not affected\n",
      "  Itlb multihit:                         KVM: Mitigation: VMX disabled\n",
      "  L1tf:                                  Mitigation; PTE Inversion; VMX conditio\n",
      "                                         nal cache flushes, SMT disabled\n",
      "  Mds:                                   Vulnerable: Clear CPU buffers attempted\n",
      "                                         , no microcode; SMT disabled\n",
      "  Meltdown:                              Mitigation; PTI\n",
      "  Mmio stale data:                       Unknown: No mitigations\n",
      "  Retbleed:                              Not affected\n",
      "  Spec rstack overflow:                  Not affected\n",
      "  Spec store bypass:                     Vulnerable\n",
      "  Spectre v1:                            Mitigation; usercopy/swapgs barriers an\n",
      "                                         d __user pointer sanitization\n",
      "  Spectre v2:                            Mitigation; Retpolines, STIBP disabled,\n",
      "                                          RSB filling, PBRSB-eIBRS Not affected\n",
      "  Srbds:                                 Not affected\n",
      "  Tsx async abort:                       Not affected\n",
      "/bin/bash: línea 1: nvidia-smi: orden no encontrada\n"
     ]
    }
   ],
   "source": [
    "!lscpu\n",
    "!nvidia-smi"
   ]
  },
  {
   "cell_type": "markdown",
   "metadata": {
    "id": "mYKKyzkkGz5Y"
   },
   "source": [
    "## Kernel"
   ]
  },
  {
   "cell_type": "code",
   "execution_count": 3,
   "metadata": {
    "id": "c5U5p18VGCp8"
   },
   "outputs": [],
   "source": [
    "KernelSource = \"\"\"\n",
    "__kernel void parallelMMult(\n",
    "  const int N,\n",
    "  __global const float *a_g,\n",
    "  __global const float *b_g,\n",
    "  __global float *res_g)\n",
    "  {\n",
    "    int i = get_global_id(0);\n",
    "    int j = get_global_id(1);\n",
    "\n",
    "    float sum = 0.0f;\n",
    "    for(int k = 0; k < N; k++) {\n",
    "      sum += a_g[i*N + k] * b_g[k*N + j];\n",
    "    }\n",
    "    //barrera\n",
    "    res_g[i*N + j] = sum;\n",
    "\n",
    "  }\n",
    "\"\"\""
   ]
  },
  {
   "cell_type": "markdown",
   "metadata": {
    "id": "U9FYnO62IP42"
   },
   "source": [
    "## Host"
   ]
  },
  {
   "cell_type": "code",
   "execution_count": 4,
   "metadata": {
    "colab": {
     "base_uri": "https://localhost:8080/"
    },
    "id": "u7R-Q4mxIPfa",
    "outputId": "8426fd5d-4e21-43f7-fa57-8c5a9d6cf937"
   },
   "outputs": [
    {
     "ename": "LogicError",
     "evalue": "Context failed: INVALID_VALUE",
     "output_type": "error",
     "traceback": [
      "\u001b[0;31m---------------------------------------------------------------------------\u001b[0m",
      "\u001b[0;31mLogicError\u001b[0m                                Traceback (most recent call last)",
      "\u001b[0;32m/tmp/ipykernel_6069/328201792.py\u001b[0m in \u001b[0;36m<module>\u001b[0;34m\u001b[0m\n\u001b[1;32m      8\u001b[0m \u001b[0;34m\u001b[0m\u001b[0m\n\u001b[1;32m      9\u001b[0m \u001b[0;31m# Crear el contexto\u001b[0m\u001b[0;34m\u001b[0m\u001b[0;34m\u001b[0m\u001b[0m\n\u001b[0;32m---> 10\u001b[0;31m \u001b[0mcontext\u001b[0m \u001b[0;34m=\u001b[0m \u001b[0mcl\u001b[0m\u001b[0;34m.\u001b[0m\u001b[0mContext\u001b[0m\u001b[0;34m(\u001b[0m\u001b[0mdevices\u001b[0m\u001b[0;34m=\u001b[0m\u001b[0mdevices\u001b[0m\u001b[0;34m)\u001b[0m\u001b[0;34m\u001b[0m\u001b[0;34m\u001b[0m\u001b[0m\n\u001b[0m\u001b[1;32m     11\u001b[0m \u001b[0;34m\u001b[0m\u001b[0m\n\u001b[1;32m     12\u001b[0m \u001b[0;31m# Crear el Command Queue\u001b[0m\u001b[0;34m\u001b[0m\u001b[0;34m\u001b[0m\u001b[0m\n",
      "\u001b[0;31mLogicError\u001b[0m: Context failed: INVALID_VALUE"
     ]
    }
   ],
   "source": [
    "N = 2500\n",
    "\n",
    "# Obtener la plataforma\n",
    "plataform_list = cl.get_platforms()\n",
    "\n",
    "# Obtener los dispositivos\n",
    "devices = plataform_list[0].get_devices(device_type = cl.device_type.GPU)\n",
    "\n",
    "# Crear el contexto\n",
    "context = cl.Context(devices=devices)\n",
    "\n",
    "# Crear el Command Queue\n",
    "queue = cl.CommandQueue(context)\n",
    "\n",
    "# Crear e inicializar los vectores de entrada\n",
    "a_np = np.arange(N*N).astype(np.float32)\n",
    "b_np = np.arange(N*N).astype(np.float32)\n",
    "\n",
    "# Crear e inicializar el vector de salida\n",
    "res_np = np.empty_like(a_np)\n",
    "\n",
    "# Crear e inicializar los Buffers (OpenCL)\n",
    "a_g = cl.Buffer(context, cl.mem_flags.READ_ONLY | cl.mem_flags.COPY_HOST_PTR, hostbuf = a_np)\n",
    "b_g = cl.Buffer(context, cl.mem_flags.READ_ONLY | cl.mem_flags.COPY_HOST_PTR, hostbuf = b_np)\n",
    "\n",
    "# Crear buffer de salida (OpenCL)\n",
    "res_g = cl.Buffer(context, cl.mem_flags.WRITE_ONLY, res_np.nbytes)\n",
    "\n",
    "# Crear el programa\n",
    "program = cl.Program(context, KernelSource).build()\n",
    "\n",
    "# Crear el kernel\n",
    "kernel = program.parallelMMult\n",
    "\n",
    "# Configurar los argumentos\n",
    "kernel.set_scalar_arg_dtypes([np.int32, None, None, None])\n",
    "kernel.set_args(N, a_g, b_g, res_g)\n",
    "\n",
    "# Definir el espacio indexado\n",
    "globalRange = (N,N)\n",
    "localRange = None\n",
    "\n",
    "# Ejecutar el kernel\n",
    "ev = cl.enqueue_nd_range_kernel(queue, kernel, globalRange, localRange)\n",
    "\n",
    "# Copy result del device al host\n",
    "cl.enqueue_copy(queue, res_np, res_g)"
   ]
  },
  {
   "cell_type": "code",
   "execution_count": 5,
   "metadata": {
    "colab": {
     "base_uri": "https://localhost:8080/"
    },
    "id": "5-LUj_c4N99A",
    "outputId": "95df9a00-a8bc-40b3-d580-3ed308feb1ba"
   },
   "outputs": [
    {
     "ename": "NameError",
     "evalue": "name 'a_np' is not defined",
     "output_type": "error",
     "traceback": [
      "\u001b[0;31m---------------------------------------------------------------------------\u001b[0m",
      "\u001b[0;31mNameError\u001b[0m                                 Traceback (most recent call last)",
      "\u001b[0;32m/tmp/ipykernel_6069/1061429308.py\u001b[0m in \u001b[0;36m<module>\u001b[0;34m\u001b[0m\n\u001b[0;32m----> 1\u001b[0;31m \u001b[0mnp_matmul\u001b[0m \u001b[0;34m=\u001b[0m \u001b[0mnp\u001b[0m\u001b[0;34m.\u001b[0m\u001b[0mmatmul\u001b[0m\u001b[0;34m(\u001b[0m\u001b[0ma_np\u001b[0m\u001b[0;34m.\u001b[0m\u001b[0mreshape\u001b[0m\u001b[0;34m(\u001b[0m\u001b[0mN\u001b[0m\u001b[0;34m,\u001b[0m\u001b[0mN\u001b[0m\u001b[0;34m)\u001b[0m\u001b[0;34m,\u001b[0m\u001b[0mb_np\u001b[0m\u001b[0;34m.\u001b[0m\u001b[0mreshape\u001b[0m\u001b[0;34m(\u001b[0m\u001b[0mN\u001b[0m\u001b[0;34m,\u001b[0m\u001b[0mN\u001b[0m\u001b[0;34m)\u001b[0m\u001b[0;34m)\u001b[0m\u001b[0;34m\u001b[0m\u001b[0;34m\u001b[0m\u001b[0m\n\u001b[0m\u001b[1;32m      2\u001b[0m \u001b[0;34m\u001b[0m\u001b[0m\n\u001b[1;32m      3\u001b[0m \u001b[0mprint\u001b[0m\u001b[0;34m(\u001b[0m\u001b[0mres_np\u001b[0m\u001b[0;34m.\u001b[0m\u001b[0mreshape\u001b[0m\u001b[0;34m(\u001b[0m\u001b[0mN\u001b[0m\u001b[0;34m,\u001b[0m\u001b[0mN\u001b[0m\u001b[0;34m)\u001b[0m\u001b[0;34m)\u001b[0m\u001b[0;34m\u001b[0m\u001b[0;34m\u001b[0m\u001b[0m\n\u001b[1;32m      4\u001b[0m \u001b[0;34m\u001b[0m\u001b[0m\n\u001b[1;32m      5\u001b[0m \u001b[0mprint\u001b[0m\u001b[0;34m(\u001b[0m\u001b[0mnp_matmul\u001b[0m\u001b[0;34m)\u001b[0m\u001b[0;34m\u001b[0m\u001b[0;34m\u001b[0m\u001b[0m\n",
      "\u001b[0;31mNameError\u001b[0m: name 'a_np' is not defined"
     ]
    }
   ],
   "source": [
    "np_matmul = np.matmul(a_np.reshape(N,N),b_np.reshape(N,N))\n",
    "\n",
    "print(res_np.reshape(N,N))\n",
    "\n",
    "print(np_matmul)"
   ]
  },
  {
   "cell_type": "code",
   "execution_count": null,
   "metadata": {
    "colab": {
     "base_uri": "https://localhost:8080/"
    },
    "id": "xALrvod9jyoA",
    "outputId": "311f220c-a3aa-474c-e432-20e7222f594a"
   },
   "outputs": [
    {
     "name": "stdout",
     "output_type": "stream",
     "text": [
      "[[ 0.  1.  2.  3.  4.]\n",
      " [ 5.  6.  7.  8.  9.]\n",
      " [10. 11. 12. 13. 14.]\n",
      " [15. 16. 17. 18. 19.]\n",
      " [20. 21. 22. 23. 24.]]\n"
     ]
    }
   ],
   "source": [
    "print(a_np.reshape(N,N))\n"
   ]
  },
  {
   "cell_type": "code",
   "execution_count": null,
   "metadata": {
    "id": "mO7hV2tYj42i"
   },
   "outputs": [],
   "source": []
  }
 ],
 "metadata": {
  "accelerator": "GPU",
  "colab": {
   "provenance": []
  },
  "kernelspec": {
   "display_name": "Python 3 (ipykernel)",
   "language": "python",
   "name": "python3"
  },
  "language_info": {
   "codemirror_mode": {
    "name": "ipython",
    "version": 3
   },
   "file_extension": ".py",
   "mimetype": "text/x-python",
   "name": "python",
   "nbconvert_exporter": "python",
   "pygments_lexer": "ipython3",
   "version": "3.10.12"
  }
 },
 "nbformat": 4,
 "nbformat_minor": 4
}
